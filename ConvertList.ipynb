{
 "cells": [
  {
   "cell_type": "code",
   "execution_count": 6,
   "metadata": {
    "collapsed": true
   },
   "outputs": [],
   "source": [
    "import pandas as pd\n",
    "import io"
   ]
  },
  {
   "cell_type": "code",
   "execution_count": 7,
   "outputs": [
    {
     "data": {
      "text/plain": "            pdgid            name  stable  mass[GeV]  degeneracy  statistics  \\\n242    1000010020               d       1    1.87561           3          -1   \n243    1000020030             He3       1    2.80839           2           1   \n244    1000010030              H3       1    2.80892           2           1   \n245    1010010030     HyperTriton       1    2.99114           2           1   \n246    1000020040             He4       1    3.72738           1          -1   \n247  100002004001          He4(1)       0    3.74759           1          -1   \n248  100002004002          He4(2)       0    3.74839           1          -1   \n249  100002004003          He4(3)       0    3.74922           5          -1   \n250  100002004004          He4(4)       0    3.75071           5          -1   \n251    1000030040             Li4       0    3.75073           5          -1   \n252  100002004005          He4(5)       0    3.75102           3          -1   \n253  100003004001          Li4(1)       0    3.75105           3          -1   \n254  100002004006          He4(6)       0    3.75163           3          -1   \n255    1000010040              H4       0    3.75168           5          -1   \n256  101001004001           H4(1)       0    3.75199           3          -1   \n257  100002004007          He4(7)       0    3.75266           1          -1   \n258  100003004002          Li4(2)       0    3.75281           1          -1   \n259  100002004008          He4(8)       0    3.75333           3          -1   \n260  100003004003          Li4(3)       0    3.75358           3          -1   \n261  101001004002           H4(2)       0    3.75376           1          -1   \n262  101001004003           H4(3)       0    3.75451           3          -1   \n263  100002004009          He4(9)       0    3.75480           5          -1   \n264  100002004010         He4(10)       0    3.75569           3          -1   \n265  100002004011         He4(11)       0    3.75575           3          -1   \n266  100002004012         He4(12)       0    3.75577           5          -1   \n267  100002004013         He4(13)       0    3.75602           1          -1   \n268  100002004014         He4(14)       0    3.75605           5          -1   \n269  100002004015         He4(15)       0    3.75727           5          -1   \n270    1010020040     HyperHelium       1    3.92119           1          -1   \n271    1010010040  HyperHydrogen4       1    3.92250           1          -1   \n272    1000030050             Li5       0    4.66734           4           1   \n273    1000020050             He5       0    4.66774           4           1   \n274  100003005001          Li5(1)       0    4.66883           2           1   \n275  100002005001          He5(1)       0    4.66901           2           1   \n276   10000305002          Li5(2)       0    4.68421           4           1   \n277  100002005002          He5(2)       0    4.68458           4           1   \n278    1000010050              H5       0    4.69104           2           1   \n279    1010020050    HyperHelium5       1    4.83990           2           1   \n\n     B  Q  S  C  |S|  |C|  width[GeV]  threshold[GeV]  \n242  2  1  0  0  0.0    0     0.00000         0.00000  \n243  3  2  0  0  0.0    0     0.00000         0.00000  \n244  3  1  0  0  0.0    0     0.00000         0.00000  \n245  3  1 -1  0  1.0    0     0.00000         0.00000  \n246  4  2  0  0  0.0    0     0.00000         0.00000  \n247  4  2  0  0  0.0    0     0.00050         3.74719  \n248  4  2  0  0  0.0    0     0.00084         3.74737  \n249  4  2  0  0  0.0    0     0.00201         3.74747  \n250  4  2  0  0  0.0    0     0.00501         3.74755  \n251  4  3  0  0  0.0    0     0.00600         3.74666  \n252  4  2  0  0  0.0    0     0.00620         3.74753  \n253  4  3  0  0  0.0    0     0.00735         3.74666  \n254  4  2  0  0  0.0    0     0.00610         3.74767  \n255  4  1  0  0  0.0    0     0.00328         3.74848  \n256  4  1  0  0  0.0    0     0.00673         3.74848  \n257  4  2  0  0  0.0    0     0.00797         3.74755  \n258  4  3  0  0  0.0    0     0.00935         3.74666  \n259  4  2  0  0  0.0    0     0.01266         3.74755  \n260  4  3  0  0  0.0    0     0.01351         3.74666  \n261  4  1  0  0  0.0    0     0.00892         3.74848  \n262  4  1  0  0  0.0    0     0.01299         3.74848  \n263  4  2  0  0  0.0    0     0.00869         3.75100  \n264  4  2  0  0  0.0    0     0.00989         3.74775  \n265  4  2  0  0  0.0    0     0.00392         3.75107  \n266  4  2  0  0  0.0    0     0.00875         3.75121  \n267  4  2  0  0  0.0    0     0.00489         3.75122  \n268  4  2  0  0  0.0    0     0.00378         3.75122  \n269  4  2  0  0  0.0    0     0.00972         3.75119  \n270  4  2 -1  0  1.0    0     0.00000         0.00000  \n271  4  1 -1  0  1.0    0     0.00000         0.00000  \n272  5  3  0  0  0.0    0     0.00000         4.66565  \n273  5  2  0  0  0.0    0     0.00065         4.66694  \n274  5  3  0  0  0.0    0     0.00660         4.66565  \n275  5  2  0  0  0.0    0     0.00550         4.66694  \n276  5  3  0  0  0.0    0     0.00000         4.67849  \n277  5  2  0  0  0.0    0     0.00000         4.67398  \n278  5  1  0  0  0.0    0     0.00000         4.68804  \n279  5  2 -1  0  1.0    0     0.00000         0.00000  ",
      "text/html": "<div>\n<style scoped>\n    .dataframe tbody tr th:only-of-type {\n        vertical-align: middle;\n    }\n\n    .dataframe tbody tr th {\n        vertical-align: top;\n    }\n\n    .dataframe thead th {\n        text-align: right;\n    }\n</style>\n<table border=\"1\" class=\"dataframe\">\n  <thead>\n    <tr style=\"text-align: right;\">\n      <th></th>\n      <th>pdgid</th>\n      <th>name</th>\n      <th>stable</th>\n      <th>mass[GeV]</th>\n      <th>degeneracy</th>\n      <th>statistics</th>\n      <th>B</th>\n      <th>Q</th>\n      <th>S</th>\n      <th>C</th>\n      <th>|S|</th>\n      <th>|C|</th>\n      <th>width[GeV]</th>\n      <th>threshold[GeV]</th>\n    </tr>\n  </thead>\n  <tbody>\n    <tr>\n      <th>242</th>\n      <td>1000010020</td>\n      <td>d</td>\n      <td>1</td>\n      <td>1.87561</td>\n      <td>3</td>\n      <td>-1</td>\n      <td>2</td>\n      <td>1</td>\n      <td>0</td>\n      <td>0</td>\n      <td>0.0</td>\n      <td>0</td>\n      <td>0.00000</td>\n      <td>0.00000</td>\n    </tr>\n    <tr>\n      <th>243</th>\n      <td>1000020030</td>\n      <td>He3</td>\n      <td>1</td>\n      <td>2.80839</td>\n      <td>2</td>\n      <td>1</td>\n      <td>3</td>\n      <td>2</td>\n      <td>0</td>\n      <td>0</td>\n      <td>0.0</td>\n      <td>0</td>\n      <td>0.00000</td>\n      <td>0.00000</td>\n    </tr>\n    <tr>\n      <th>244</th>\n      <td>1000010030</td>\n      <td>H3</td>\n      <td>1</td>\n      <td>2.80892</td>\n      <td>2</td>\n      <td>1</td>\n      <td>3</td>\n      <td>1</td>\n      <td>0</td>\n      <td>0</td>\n      <td>0.0</td>\n      <td>0</td>\n      <td>0.00000</td>\n      <td>0.00000</td>\n    </tr>\n    <tr>\n      <th>245</th>\n      <td>1010010030</td>\n      <td>HyperTriton</td>\n      <td>1</td>\n      <td>2.99114</td>\n      <td>2</td>\n      <td>1</td>\n      <td>3</td>\n      <td>1</td>\n      <td>-1</td>\n      <td>0</td>\n      <td>1.0</td>\n      <td>0</td>\n      <td>0.00000</td>\n      <td>0.00000</td>\n    </tr>\n    <tr>\n      <th>246</th>\n      <td>1000020040</td>\n      <td>He4</td>\n      <td>1</td>\n      <td>3.72738</td>\n      <td>1</td>\n      <td>-1</td>\n      <td>4</td>\n      <td>2</td>\n      <td>0</td>\n      <td>0</td>\n      <td>0.0</td>\n      <td>0</td>\n      <td>0.00000</td>\n      <td>0.00000</td>\n    </tr>\n    <tr>\n      <th>247</th>\n      <td>100002004001</td>\n      <td>He4(1)</td>\n      <td>0</td>\n      <td>3.74759</td>\n      <td>1</td>\n      <td>-1</td>\n      <td>4</td>\n      <td>2</td>\n      <td>0</td>\n      <td>0</td>\n      <td>0.0</td>\n      <td>0</td>\n      <td>0.00050</td>\n      <td>3.74719</td>\n    </tr>\n    <tr>\n      <th>248</th>\n      <td>100002004002</td>\n      <td>He4(2)</td>\n      <td>0</td>\n      <td>3.74839</td>\n      <td>1</td>\n      <td>-1</td>\n      <td>4</td>\n      <td>2</td>\n      <td>0</td>\n      <td>0</td>\n      <td>0.0</td>\n      <td>0</td>\n      <td>0.00084</td>\n      <td>3.74737</td>\n    </tr>\n    <tr>\n      <th>249</th>\n      <td>100002004003</td>\n      <td>He4(3)</td>\n      <td>0</td>\n      <td>3.74922</td>\n      <td>5</td>\n      <td>-1</td>\n      <td>4</td>\n      <td>2</td>\n      <td>0</td>\n      <td>0</td>\n      <td>0.0</td>\n      <td>0</td>\n      <td>0.00201</td>\n      <td>3.74747</td>\n    </tr>\n    <tr>\n      <th>250</th>\n      <td>100002004004</td>\n      <td>He4(4)</td>\n      <td>0</td>\n      <td>3.75071</td>\n      <td>5</td>\n      <td>-1</td>\n      <td>4</td>\n      <td>2</td>\n      <td>0</td>\n      <td>0</td>\n      <td>0.0</td>\n      <td>0</td>\n      <td>0.00501</td>\n      <td>3.74755</td>\n    </tr>\n    <tr>\n      <th>251</th>\n      <td>1000030040</td>\n      <td>Li4</td>\n      <td>0</td>\n      <td>3.75073</td>\n      <td>5</td>\n      <td>-1</td>\n      <td>4</td>\n      <td>3</td>\n      <td>0</td>\n      <td>0</td>\n      <td>0.0</td>\n      <td>0</td>\n      <td>0.00600</td>\n      <td>3.74666</td>\n    </tr>\n    <tr>\n      <th>252</th>\n      <td>100002004005</td>\n      <td>He4(5)</td>\n      <td>0</td>\n      <td>3.75102</td>\n      <td>3</td>\n      <td>-1</td>\n      <td>4</td>\n      <td>2</td>\n      <td>0</td>\n      <td>0</td>\n      <td>0.0</td>\n      <td>0</td>\n      <td>0.00620</td>\n      <td>3.74753</td>\n    </tr>\n    <tr>\n      <th>253</th>\n      <td>100003004001</td>\n      <td>Li4(1)</td>\n      <td>0</td>\n      <td>3.75105</td>\n      <td>3</td>\n      <td>-1</td>\n      <td>4</td>\n      <td>3</td>\n      <td>0</td>\n      <td>0</td>\n      <td>0.0</td>\n      <td>0</td>\n      <td>0.00735</td>\n      <td>3.74666</td>\n    </tr>\n    <tr>\n      <th>254</th>\n      <td>100002004006</td>\n      <td>He4(6)</td>\n      <td>0</td>\n      <td>3.75163</td>\n      <td>3</td>\n      <td>-1</td>\n      <td>4</td>\n      <td>2</td>\n      <td>0</td>\n      <td>0</td>\n      <td>0.0</td>\n      <td>0</td>\n      <td>0.00610</td>\n      <td>3.74767</td>\n    </tr>\n    <tr>\n      <th>255</th>\n      <td>1000010040</td>\n      <td>H4</td>\n      <td>0</td>\n      <td>3.75168</td>\n      <td>5</td>\n      <td>-1</td>\n      <td>4</td>\n      <td>1</td>\n      <td>0</td>\n      <td>0</td>\n      <td>0.0</td>\n      <td>0</td>\n      <td>0.00328</td>\n      <td>3.74848</td>\n    </tr>\n    <tr>\n      <th>256</th>\n      <td>101001004001</td>\n      <td>H4(1)</td>\n      <td>0</td>\n      <td>3.75199</td>\n      <td>3</td>\n      <td>-1</td>\n      <td>4</td>\n      <td>1</td>\n      <td>0</td>\n      <td>0</td>\n      <td>0.0</td>\n      <td>0</td>\n      <td>0.00673</td>\n      <td>3.74848</td>\n    </tr>\n    <tr>\n      <th>257</th>\n      <td>100002004007</td>\n      <td>He4(7)</td>\n      <td>0</td>\n      <td>3.75266</td>\n      <td>1</td>\n      <td>-1</td>\n      <td>4</td>\n      <td>2</td>\n      <td>0</td>\n      <td>0</td>\n      <td>0.0</td>\n      <td>0</td>\n      <td>0.00797</td>\n      <td>3.74755</td>\n    </tr>\n    <tr>\n      <th>258</th>\n      <td>100003004002</td>\n      <td>Li4(2)</td>\n      <td>0</td>\n      <td>3.75281</td>\n      <td>1</td>\n      <td>-1</td>\n      <td>4</td>\n      <td>3</td>\n      <td>0</td>\n      <td>0</td>\n      <td>0.0</td>\n      <td>0</td>\n      <td>0.00935</td>\n      <td>3.74666</td>\n    </tr>\n    <tr>\n      <th>259</th>\n      <td>100002004008</td>\n      <td>He4(8)</td>\n      <td>0</td>\n      <td>3.75333</td>\n      <td>3</td>\n      <td>-1</td>\n      <td>4</td>\n      <td>2</td>\n      <td>0</td>\n      <td>0</td>\n      <td>0.0</td>\n      <td>0</td>\n      <td>0.01266</td>\n      <td>3.74755</td>\n    </tr>\n    <tr>\n      <th>260</th>\n      <td>100003004003</td>\n      <td>Li4(3)</td>\n      <td>0</td>\n      <td>3.75358</td>\n      <td>3</td>\n      <td>-1</td>\n      <td>4</td>\n      <td>3</td>\n      <td>0</td>\n      <td>0</td>\n      <td>0.0</td>\n      <td>0</td>\n      <td>0.01351</td>\n      <td>3.74666</td>\n    </tr>\n    <tr>\n      <th>261</th>\n      <td>101001004002</td>\n      <td>H4(2)</td>\n      <td>0</td>\n      <td>3.75376</td>\n      <td>1</td>\n      <td>-1</td>\n      <td>4</td>\n      <td>1</td>\n      <td>0</td>\n      <td>0</td>\n      <td>0.0</td>\n      <td>0</td>\n      <td>0.00892</td>\n      <td>3.74848</td>\n    </tr>\n    <tr>\n      <th>262</th>\n      <td>101001004003</td>\n      <td>H4(3)</td>\n      <td>0</td>\n      <td>3.75451</td>\n      <td>3</td>\n      <td>-1</td>\n      <td>4</td>\n      <td>1</td>\n      <td>0</td>\n      <td>0</td>\n      <td>0.0</td>\n      <td>0</td>\n      <td>0.01299</td>\n      <td>3.74848</td>\n    </tr>\n    <tr>\n      <th>263</th>\n      <td>100002004009</td>\n      <td>He4(9)</td>\n      <td>0</td>\n      <td>3.75480</td>\n      <td>5</td>\n      <td>-1</td>\n      <td>4</td>\n      <td>2</td>\n      <td>0</td>\n      <td>0</td>\n      <td>0.0</td>\n      <td>0</td>\n      <td>0.00869</td>\n      <td>3.75100</td>\n    </tr>\n    <tr>\n      <th>264</th>\n      <td>100002004010</td>\n      <td>He4(10)</td>\n      <td>0</td>\n      <td>3.75569</td>\n      <td>3</td>\n      <td>-1</td>\n      <td>4</td>\n      <td>2</td>\n      <td>0</td>\n      <td>0</td>\n      <td>0.0</td>\n      <td>0</td>\n      <td>0.00989</td>\n      <td>3.74775</td>\n    </tr>\n    <tr>\n      <th>265</th>\n      <td>100002004011</td>\n      <td>He4(11)</td>\n      <td>0</td>\n      <td>3.75575</td>\n      <td>3</td>\n      <td>-1</td>\n      <td>4</td>\n      <td>2</td>\n      <td>0</td>\n      <td>0</td>\n      <td>0.0</td>\n      <td>0</td>\n      <td>0.00392</td>\n      <td>3.75107</td>\n    </tr>\n    <tr>\n      <th>266</th>\n      <td>100002004012</td>\n      <td>He4(12)</td>\n      <td>0</td>\n      <td>3.75577</td>\n      <td>5</td>\n      <td>-1</td>\n      <td>4</td>\n      <td>2</td>\n      <td>0</td>\n      <td>0</td>\n      <td>0.0</td>\n      <td>0</td>\n      <td>0.00875</td>\n      <td>3.75121</td>\n    </tr>\n    <tr>\n      <th>267</th>\n      <td>100002004013</td>\n      <td>He4(13)</td>\n      <td>0</td>\n      <td>3.75602</td>\n      <td>1</td>\n      <td>-1</td>\n      <td>4</td>\n      <td>2</td>\n      <td>0</td>\n      <td>0</td>\n      <td>0.0</td>\n      <td>0</td>\n      <td>0.00489</td>\n      <td>3.75122</td>\n    </tr>\n    <tr>\n      <th>268</th>\n      <td>100002004014</td>\n      <td>He4(14)</td>\n      <td>0</td>\n      <td>3.75605</td>\n      <td>5</td>\n      <td>-1</td>\n      <td>4</td>\n      <td>2</td>\n      <td>0</td>\n      <td>0</td>\n      <td>0.0</td>\n      <td>0</td>\n      <td>0.00378</td>\n      <td>3.75122</td>\n    </tr>\n    <tr>\n      <th>269</th>\n      <td>100002004015</td>\n      <td>He4(15)</td>\n      <td>0</td>\n      <td>3.75727</td>\n      <td>5</td>\n      <td>-1</td>\n      <td>4</td>\n      <td>2</td>\n      <td>0</td>\n      <td>0</td>\n      <td>0.0</td>\n      <td>0</td>\n      <td>0.00972</td>\n      <td>3.75119</td>\n    </tr>\n    <tr>\n      <th>270</th>\n      <td>1010020040</td>\n      <td>HyperHelium</td>\n      <td>1</td>\n      <td>3.92119</td>\n      <td>1</td>\n      <td>-1</td>\n      <td>4</td>\n      <td>2</td>\n      <td>-1</td>\n      <td>0</td>\n      <td>1.0</td>\n      <td>0</td>\n      <td>0.00000</td>\n      <td>0.00000</td>\n    </tr>\n    <tr>\n      <th>271</th>\n      <td>1010010040</td>\n      <td>HyperHydrogen4</td>\n      <td>1</td>\n      <td>3.92250</td>\n      <td>1</td>\n      <td>-1</td>\n      <td>4</td>\n      <td>1</td>\n      <td>-1</td>\n      <td>0</td>\n      <td>1.0</td>\n      <td>0</td>\n      <td>0.00000</td>\n      <td>0.00000</td>\n    </tr>\n    <tr>\n      <th>272</th>\n      <td>1000030050</td>\n      <td>Li5</td>\n      <td>0</td>\n      <td>4.66734</td>\n      <td>4</td>\n      <td>1</td>\n      <td>5</td>\n      <td>3</td>\n      <td>0</td>\n      <td>0</td>\n      <td>0.0</td>\n      <td>0</td>\n      <td>0.00000</td>\n      <td>4.66565</td>\n    </tr>\n    <tr>\n      <th>273</th>\n      <td>1000020050</td>\n      <td>He5</td>\n      <td>0</td>\n      <td>4.66774</td>\n      <td>4</td>\n      <td>1</td>\n      <td>5</td>\n      <td>2</td>\n      <td>0</td>\n      <td>0</td>\n      <td>0.0</td>\n      <td>0</td>\n      <td>0.00065</td>\n      <td>4.66694</td>\n    </tr>\n    <tr>\n      <th>274</th>\n      <td>100003005001</td>\n      <td>Li5(1)</td>\n      <td>0</td>\n      <td>4.66883</td>\n      <td>2</td>\n      <td>1</td>\n      <td>5</td>\n      <td>3</td>\n      <td>0</td>\n      <td>0</td>\n      <td>0.0</td>\n      <td>0</td>\n      <td>0.00660</td>\n      <td>4.66565</td>\n    </tr>\n    <tr>\n      <th>275</th>\n      <td>100002005001</td>\n      <td>He5(1)</td>\n      <td>0</td>\n      <td>4.66901</td>\n      <td>2</td>\n      <td>1</td>\n      <td>5</td>\n      <td>2</td>\n      <td>0</td>\n      <td>0</td>\n      <td>0.0</td>\n      <td>0</td>\n      <td>0.00550</td>\n      <td>4.66694</td>\n    </tr>\n    <tr>\n      <th>276</th>\n      <td>10000305002</td>\n      <td>Li5(2)</td>\n      <td>0</td>\n      <td>4.68421</td>\n      <td>4</td>\n      <td>1</td>\n      <td>5</td>\n      <td>3</td>\n      <td>0</td>\n      <td>0</td>\n      <td>0.0</td>\n      <td>0</td>\n      <td>0.00000</td>\n      <td>4.67849</td>\n    </tr>\n    <tr>\n      <th>277</th>\n      <td>100002005002</td>\n      <td>He5(2)</td>\n      <td>0</td>\n      <td>4.68458</td>\n      <td>4</td>\n      <td>1</td>\n      <td>5</td>\n      <td>2</td>\n      <td>0</td>\n      <td>0</td>\n      <td>0.0</td>\n      <td>0</td>\n      <td>0.00000</td>\n      <td>4.67398</td>\n    </tr>\n    <tr>\n      <th>278</th>\n      <td>1000010050</td>\n      <td>H5</td>\n      <td>0</td>\n      <td>4.69104</td>\n      <td>2</td>\n      <td>1</td>\n      <td>5</td>\n      <td>1</td>\n      <td>0</td>\n      <td>0</td>\n      <td>0.0</td>\n      <td>0</td>\n      <td>0.00000</td>\n      <td>4.68804</td>\n    </tr>\n    <tr>\n      <th>279</th>\n      <td>1010020050</td>\n      <td>HyperHelium5</td>\n      <td>1</td>\n      <td>4.83990</td>\n      <td>2</td>\n      <td>1</td>\n      <td>5</td>\n      <td>2</td>\n      <td>-1</td>\n      <td>0</td>\n      <td>1.0</td>\n      <td>0</td>\n      <td>0.00000</td>\n      <td>0.00000</td>\n    </tr>\n  </tbody>\n</table>\n</div>"
     },
     "execution_count": 7,
     "metadata": {},
     "output_type": "execute_result"
    }
   ],
   "source": [
    "filename = '/Users/harabasz/Downloads/Thermal-FIST-master/input/list/PDG2020/list-withexcitednuclei.dat'\n",
    "with open(filename,'r') as file:\n",
    "    stringIO = io.StringIO(file.read().replace('#',''))\n",
    "data = pd.read_csv(stringIO,\n",
    "            skiprows=1,\n",
    "            delimiter=' ',\n",
    "            skipinitialspace=True)\n",
    "data = data[242:]\n",
    "data"
   ],
   "metadata": {
    "collapsed": false,
    "pycharm": {
     "name": "#%%\n"
    }
   }
  },
  {
   "cell_type": "code",
   "execution_count": 8,
   "outputs": [],
   "source": [
    "def stat(x):\n",
    "    return -x['statistics']\n",
    "def m(x):\n",
    "    return x['mass[GeV]']\n",
    "def s(x):\n",
    "    return (x['degeneracy'] - 1)/2\n",
    "def B(x):\n",
    "    return x['B']\n",
    "def S(x):\n",
    "    return x['S']\n",
    "def I3(x):\n",
    "    return x['Q'] - (B(x) + S(x))/2\n",
    "def NS(x):\n",
    "    return x['|S|']\n",
    "def name(x):\n",
    "    name = x['name']\n",
    "    if (name == 'd'):\n",
    "        return 'H2'\n",
    "    if ('(' in name):\n",
    "        name = name.replace(')','')\n",
    "        name = name.replace('(','state')\n",
    "    return name\n",
    "def integerOrNhalf(x):\n",
    "    if 2*x % 2 == 0:\n",
    "        return int(x)\n",
    "    else:\n",
    "        return '{}/2'.format(int(2*x))"
   ],
   "metadata": {
    "collapsed": false,
    "pycharm": {
     "name": "#%%\n"
    }
   }
  },
  {
   "cell_type": "code",
   "execution_count": 9,
   "outputs": [
    {
     "data": {
      "text/plain": "242    QNH2 = { stat -> 1, m -> 1.87561, s -> 1, B ->...\n243    QNHe3 = { stat -> -1, m -> 2.80839, s -> 1/2, ...\n244    QNH3 = { stat -> -1, m -> 2.80892, s -> 1/2, B...\n245    QNHyperTriton = { stat -> -1, m -> 2.99114, s ...\n246    QNHe4 = { stat -> 1, m -> 3.72738, s -> 0, B -...\n247    QNHe4state1 = { stat -> 1, m -> 3.74759, s -> ...\n248    QNHe4state2 = { stat -> 1, m -> 3.74839, s -> ...\n249    QNHe4state3 = { stat -> 1, m -> 3.74922, s -> ...\n250    QNHe4state4 = { stat -> 1, m -> 3.75071, s -> ...\n251    QNLi4 = { stat -> 1, m -> 3.75073, s -> 2, B -...\n252    QNHe4state5 = { stat -> 1, m -> 3.75102, s -> ...\n253    QNLi4state1 = { stat -> 1, m -> 3.75105, s -> ...\n254    QNHe4state6 = { stat -> 1, m -> 3.75163, s -> ...\n255    QNH4 = { stat -> 1, m -> 3.75168, s -> 2, B ->...\n256    QNH4state1 = { stat -> 1, m -> 3.75199, s -> 1...\n257    QNHe4state7 = { stat -> 1, m -> 3.75266, s -> ...\n258    QNLi4state2 = { stat -> 1, m -> 3.75281, s -> ...\n259    QNHe4state8 = { stat -> 1, m -> 3.75333, s -> ...\n260    QNLi4state3 = { stat -> 1, m -> 3.75358, s -> ...\n261    QNH4state2 = { stat -> 1, m -> 3.75376, s -> 0...\n262    QNH4state3 = { stat -> 1, m -> 3.75451, s -> 1...\n263    QNHe4state9 = { stat -> 1, m -> 3.7548, s -> 2...\n264    QNHe4state10 = { stat -> 1, m -> 3.75569, s ->...\n265    QNHe4state11 = { stat -> 1, m -> 3.75575, s ->...\n266    QNHe4state12 = { stat -> 1, m -> 3.75577, s ->...\n267    QNHe4state13 = { stat -> 1, m -> 3.75602, s ->...\n268    QNHe4state14 = { stat -> 1, m -> 3.75605, s ->...\n269    QNHe4state15 = { stat -> 1, m -> 3.75727, s ->...\n270    QNHyperHelium = { stat -> 1, m -> 3.92119, s -...\n271    QNHyperHydrogen4 = { stat -> 1, m -> 3.9225, s...\n272    QNLi5 = { stat -> -1, m -> 4.66734, s -> 3/2, ...\n273    QNHe5 = { stat -> -1, m -> 4.66774, s -> 3/2, ...\n274    QNLi5state1 = { stat -> -1, m -> 4.66883, s ->...\n275    QNHe5state1 = { stat -> -1, m -> 4.66901, s ->...\n276    QNLi5state2 = { stat -> -1, m -> 4.68421, s ->...\n277    QNHe5state2 = { stat -> -1, m -> 4.68458, s ->...\n278    QNH5 = { stat -> -1, m -> 4.69104, s -> 1/2, B...\n279    QNHyperHelium5 = { stat -> -1, m -> 4.8399, s ...\ndtype: object"
     },
     "execution_count": 9,
     "metadata": {},
     "output_type": "execute_result"
    }
   ],
   "source": [
    "def toQN(x):\n",
    "    return 'QN{} = {{ stat -> {}, m -> {}, s -> {}, B -> {}, S -> {}, I3 -> {}, NS -> {} }};'.format(\n",
    "        name(x),\n",
    "        stat(x),\n",
    "        m(x),\n",
    "        integerOrNhalf(s(x)),\n",
    "        integerOrNhalf(B(x)),\n",
    "        integerOrNhalf(S(x)),\n",
    "        integerOrNhalf(I3(x)),\n",
    "        integerOrNhalf(NS(x))\n",
    "    )\n",
    "\n",
    "data.apply(toQN, axis=1)"
   ],
   "metadata": {
    "collapsed": false,
    "pycharm": {
     "name": "#%%\n"
    }
   }
  },
  {
   "cell_type": "code",
   "execution_count": 10,
   "outputs": [
    {
     "data": {
      "text/plain": "242    DensprimH2[T_?NumericQ, \\[Mu]B_?NumericQ, \\[Mu...\n243    DensprimHe3[T_?NumericQ, \\[Mu]B_?NumericQ, \\[M...\n244    DensprimH3[T_?NumericQ, \\[Mu]B_?NumericQ, \\[Mu...\n245    DensprimHyperTriton[T_?NumericQ, \\[Mu]B_?Numer...\n246    DensprimHe4[T_?NumericQ, \\[Mu]B_?NumericQ, \\[M...\n247    DensprimHe4state1[T_?NumericQ, \\[Mu]B_?Numeric...\n248    DensprimHe4state2[T_?NumericQ, \\[Mu]B_?Numeric...\n249    DensprimHe4state3[T_?NumericQ, \\[Mu]B_?Numeric...\n250    DensprimHe4state4[T_?NumericQ, \\[Mu]B_?Numeric...\n251    DensprimLi4[T_?NumericQ, \\[Mu]B_?NumericQ, \\[M...\n252    DensprimHe4state5[T_?NumericQ, \\[Mu]B_?Numeric...\n253    DensprimLi4state1[T_?NumericQ, \\[Mu]B_?Numeric...\n254    DensprimHe4state6[T_?NumericQ, \\[Mu]B_?Numeric...\n255    DensprimH4[T_?NumericQ, \\[Mu]B_?NumericQ, \\[Mu...\n256    DensprimH4state1[T_?NumericQ, \\[Mu]B_?NumericQ...\n257    DensprimHe4state7[T_?NumericQ, \\[Mu]B_?Numeric...\n258    DensprimLi4state2[T_?NumericQ, \\[Mu]B_?Numeric...\n259    DensprimHe4state8[T_?NumericQ, \\[Mu]B_?Numeric...\n260    DensprimLi4state3[T_?NumericQ, \\[Mu]B_?Numeric...\n261    DensprimH4state2[T_?NumericQ, \\[Mu]B_?NumericQ...\n262    DensprimH4state3[T_?NumericQ, \\[Mu]B_?NumericQ...\n263    DensprimHe4state9[T_?NumericQ, \\[Mu]B_?Numeric...\n264    DensprimHe4state10[T_?NumericQ, \\[Mu]B_?Numeri...\n265    DensprimHe4state11[T_?NumericQ, \\[Mu]B_?Numeri...\n266    DensprimHe4state12[T_?NumericQ, \\[Mu]B_?Numeri...\n267    DensprimHe4state13[T_?NumericQ, \\[Mu]B_?Numeri...\n268    DensprimHe4state14[T_?NumericQ, \\[Mu]B_?Numeri...\n269    DensprimHe4state15[T_?NumericQ, \\[Mu]B_?Numeri...\n270    DensprimHyperHelium[T_?NumericQ, \\[Mu]B_?Numer...\n271    DensprimHyperHydrogen4[T_?NumericQ, \\[Mu]B_?Nu...\n272    DensprimLi5[T_?NumericQ, \\[Mu]B_?NumericQ, \\[M...\n273    DensprimHe5[T_?NumericQ, \\[Mu]B_?NumericQ, \\[M...\n274    DensprimLi5state1[T_?NumericQ, \\[Mu]B_?Numeric...\n275    DensprimHe5state1[T_?NumericQ, \\[Mu]B_?Numeric...\n276    DensprimLi5state2[T_?NumericQ, \\[Mu]B_?Numeric...\n277    DensprimHe5state2[T_?NumericQ, \\[Mu]B_?Numeric...\n278    DensprimH5[T_?NumericQ, \\[Mu]B_?NumericQ, \\[Mu...\n279    DensprimHyperHelium5[T_?NumericQ, \\[Mu]B_?Nume...\ndtype: object"
     },
     "execution_count": 10,
     "metadata": {},
     "output_type": "execute_result"
    }
   ],
   "source": [
    "def toDens(x):\n",
    "    strname = name(x)\n",
    "    return \"Densprim{}[T_?NumericQ, \\[Mu]B_?NumericQ, \\[Mu]S_?NumericQ, \\[Mu]I3_?NumericQ, \\[Gamma]s_?NumericQ] := (Densprim[ s, NS, m, B, S, I3, T, \\[Mu]B, \\[Mu]S, \\[Mu]I3, \\[Gamma]s] /. QN{});\".format(strname, strname)\n",
    "\n",
    "data.apply(toDens, axis=1)"
   ],
   "metadata": {
    "collapsed": false,
    "pycharm": {
     "name": "#%%\n"
    }
   }
  },
  {
   "cell_type": "code",
   "execution_count": 10,
   "outputs": [],
   "source": [],
   "metadata": {
    "collapsed": false,
    "pycharm": {
     "name": "#%%\n"
    }
   }
  }
 ],
 "metadata": {
  "kernelspec": {
   "display_name": "Python 3",
   "language": "python",
   "name": "python3"
  },
  "language_info": {
   "codemirror_mode": {
    "name": "ipython",
    "version": 2
   },
   "file_extension": ".py",
   "mimetype": "text/x-python",
   "name": "python",
   "nbconvert_exporter": "python",
   "pygments_lexer": "ipython2",
   "version": "2.7.6"
  }
 },
 "nbformat": 4,
 "nbformat_minor": 0
}